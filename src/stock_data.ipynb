{
 "cells": [
  {
   "cell_type": "code",
   "execution_count": 6,
   "metadata": {},
   "outputs": [],
   "source": [
    "import pandas as pd\n",
    "from pandas.io.json import json_normalize\n",
    "import json"
   ]
  },
  {
   "cell_type": "code",
   "execution_count": 7,
   "metadata": {},
   "outputs": [],
   "source": [
    "\n"
   ]
  },
  {
   "cell_type": "code",
   "execution_count": 11,
   "metadata": {},
   "outputs": [],
   "source": [
    "def df_from_response(file_name: str,\n",
    "         columns=['Open', 'High', 'Low', 'Close', 'AdjClose', 'Volume']):\n",
    "\n",
    "    def read_json_file(file_name: str) -> dict:\n",
    "        with open(f'../data/{file_name}') as f:\n",
    "            return json.load(f)\n",
    "\n",
    "    def convert_response(d):\n",
    "        # convert the response into datetimerecords that can be\n",
    "        # parsed by Pandas\n",
    "        for dt, prec in d['Time Series (Daily)'].items():\n",
    "            r = { 'datetime': dt}\n",
    "            r.update(prec)\n",
    "            yield r\n",
    "     \n",
    "    df = pd.DataFrame(convert_response(read_json_file(file_name)))\n",
    "    # rename the columns    \n",
    "    df = df.rename(columns={'1. open': 'Open',\n",
    "                            '2. high': 'High',\n",
    "                            '3. low': 'Low',\n",
    "                            '4. close': 'Close',\n",
    "                            '5. adjusted close': 'AdjClose',\n",
    "                            '6. volume': 'Volume'})\n",
    "    df['datetime'] = pd.to_datetime(df['datetime'])\n",
    "    df.set_index('datetime', inplace=True)\n",
    "    df.sort_index(inplace=True)\n",
    "    # extract the default columns\n",
    "    df = df[columns]\n",
    "    return df"
   ]
  },
  {
   "cell_type": "code",
   "execution_count": 12,
   "metadata": {},
   "outputs": [
    {
     "output_type": "execute_result",
     "data": {
      "text/plain": "                Open      High       Low     Close  AdjClose    Volume\ndatetime                                                              \n2000-05-04  115.1200  115.2500  110.5600  110.6900    3.4311   3567100\n2000-05-05  110.8100  114.7500  110.7200  113.1200    3.5064   2536400\n2000-05-08  112.0900  113.6900  110.0000  110.1200    3.4134   1650900\n2000-05-09  110.3100  111.2500  104.8700  105.4400    3.2683   2920900\n2000-05-10  104.0600  105.0000   98.7500   99.3100    3.0783   4777600\n...              ...       ...       ...       ...       ...       ...\n2020-04-29  284.7300  289.6700  283.8900  287.7300  287.7300  34320204\n2020-04-30  289.9600  294.5300  288.3500  293.8000  293.8000  45765968\n2020-05-01  286.2500  299.0000  285.8500  289.0700  289.0700  60154175\n2020-05-04  289.1700  293.6900  286.3172  293.1600  293.1600  33391986\n2020-05-05  295.0600  301.0000  294.4600  297.5600  297.5600  36576653\n\n[5032 rows x 6 columns]",
      "text/html": "<div>\n<style scoped>\n    .dataframe tbody tr th:only-of-type {\n        vertical-align: middle;\n    }\n\n    .dataframe tbody tr th {\n        vertical-align: top;\n    }\n\n    .dataframe thead th {\n        text-align: right;\n    }\n</style>\n<table border=\"1\" class=\"dataframe\">\n  <thead>\n    <tr style=\"text-align: right;\">\n      <th></th>\n      <th>Open</th>\n      <th>High</th>\n      <th>Low</th>\n      <th>Close</th>\n      <th>AdjClose</th>\n      <th>Volume</th>\n    </tr>\n    <tr>\n      <th>datetime</th>\n      <th></th>\n      <th></th>\n      <th></th>\n      <th></th>\n      <th></th>\n      <th></th>\n    </tr>\n  </thead>\n  <tbody>\n    <tr>\n      <th>2000-05-04</th>\n      <td>115.1200</td>\n      <td>115.2500</td>\n      <td>110.5600</td>\n      <td>110.6900</td>\n      <td>3.4311</td>\n      <td>3567100</td>\n    </tr>\n    <tr>\n      <th>2000-05-05</th>\n      <td>110.8100</td>\n      <td>114.7500</td>\n      <td>110.7200</td>\n      <td>113.1200</td>\n      <td>3.5064</td>\n      <td>2536400</td>\n    </tr>\n    <tr>\n      <th>2000-05-08</th>\n      <td>112.0900</td>\n      <td>113.6900</td>\n      <td>110.0000</td>\n      <td>110.1200</td>\n      <td>3.4134</td>\n      <td>1650900</td>\n    </tr>\n    <tr>\n      <th>2000-05-09</th>\n      <td>110.3100</td>\n      <td>111.2500</td>\n      <td>104.8700</td>\n      <td>105.4400</td>\n      <td>3.2683</td>\n      <td>2920900</td>\n    </tr>\n    <tr>\n      <th>2000-05-10</th>\n      <td>104.0600</td>\n      <td>105.0000</td>\n      <td>98.7500</td>\n      <td>99.3100</td>\n      <td>3.0783</td>\n      <td>4777600</td>\n    </tr>\n    <tr>\n      <th>...</th>\n      <td>...</td>\n      <td>...</td>\n      <td>...</td>\n      <td>...</td>\n      <td>...</td>\n      <td>...</td>\n    </tr>\n    <tr>\n      <th>2020-04-29</th>\n      <td>284.7300</td>\n      <td>289.6700</td>\n      <td>283.8900</td>\n      <td>287.7300</td>\n      <td>287.7300</td>\n      <td>34320204</td>\n    </tr>\n    <tr>\n      <th>2020-04-30</th>\n      <td>289.9600</td>\n      <td>294.5300</td>\n      <td>288.3500</td>\n      <td>293.8000</td>\n      <td>293.8000</td>\n      <td>45765968</td>\n    </tr>\n    <tr>\n      <th>2020-05-01</th>\n      <td>286.2500</td>\n      <td>299.0000</td>\n      <td>285.8500</td>\n      <td>289.0700</td>\n      <td>289.0700</td>\n      <td>60154175</td>\n    </tr>\n    <tr>\n      <th>2020-05-04</th>\n      <td>289.1700</td>\n      <td>293.6900</td>\n      <td>286.3172</td>\n      <td>293.1600</td>\n      <td>293.1600</td>\n      <td>33391986</td>\n    </tr>\n    <tr>\n      <th>2020-05-05</th>\n      <td>295.0600</td>\n      <td>301.0000</td>\n      <td>294.4600</td>\n      <td>297.5600</td>\n      <td>297.5600</td>\n      <td>36576653</td>\n    </tr>\n  </tbody>\n</table>\n<p>5032 rows × 6 columns</p>\n</div>"
     },
     "metadata": {},
     "execution_count": 12
    }
   ],
   "source": [
    "df_from_response('data_aapl.json')"
   ]
  },
  {
   "cell_type": "code",
   "execution_count": 9,
   "metadata": {},
   "outputs": [
    {
     "output_type": "execute_result",
     "data": {
      "text/plain": "                            Meta Data.1. Information Meta Data.2. Symbol  \\\n0  Daily Time Series with Splits and Dividend Events                aapl   \n\n  Meta Data.3. Last Refreshed Meta Data.4. Output Size Meta Data.5. Time Zone  \\\n0                  2020-05-05                Full size             US/Eastern   \n\n  Time Series (Daily).2020-05-05.1. open  \\\n0                               295.0600   \n\n  Time Series (Daily).2020-05-05.2. high  \\\n0                               301.0000   \n\n  Time Series (Daily).2020-05-05.3. low  \\\n0                              294.4600   \n\n  Time Series (Daily).2020-05-05.4. close  \\\n0                                297.5600   \n\n  Time Series (Daily).2020-05-05.5. adjusted close  ...  \\\n0                                         297.5600  ...   \n\n  Time Series (Daily).2000-05-05.7. dividend amount  \\\n0                                            0.0000   \n\n  Time Series (Daily).2000-05-05.8. split coefficient  \\\n0                                             1.0000    \n\n  Time Series (Daily).2000-05-04.1. open  \\\n0                               115.1200   \n\n  Time Series (Daily).2000-05-04.2. high  \\\n0                               115.2500   \n\n  Time Series (Daily).2000-05-04.3. low  \\\n0                              110.5600   \n\n  Time Series (Daily).2000-05-04.4. close  \\\n0                                110.6900   \n\n  Time Series (Daily).2000-05-04.5. adjusted close  \\\n0                                           3.4311   \n\n  Time Series (Daily).2000-05-04.6. volume  \\\n0                                  3567100   \n\n  Time Series (Daily).2000-05-04.7. dividend amount  \\\n0                                            0.0000   \n\n  Time Series (Daily).2000-05-04.8. split coefficient  \n0                                             1.0000   \n\n[1 rows x 40261 columns]",
      "text/html": "<div>\n<style scoped>\n    .dataframe tbody tr th:only-of-type {\n        vertical-align: middle;\n    }\n\n    .dataframe tbody tr th {\n        vertical-align: top;\n    }\n\n    .dataframe thead th {\n        text-align: right;\n    }\n</style>\n<table border=\"1\" class=\"dataframe\">\n  <thead>\n    <tr style=\"text-align: right;\">\n      <th></th>\n      <th>Meta Data.1. Information</th>\n      <th>Meta Data.2. Symbol</th>\n      <th>Meta Data.3. Last Refreshed</th>\n      <th>Meta Data.4. Output Size</th>\n      <th>Meta Data.5. Time Zone</th>\n      <th>Time Series (Daily).2020-05-05.1. open</th>\n      <th>Time Series (Daily).2020-05-05.2. high</th>\n      <th>Time Series (Daily).2020-05-05.3. low</th>\n      <th>Time Series (Daily).2020-05-05.4. close</th>\n      <th>Time Series (Daily).2020-05-05.5. adjusted close</th>\n      <th>...</th>\n      <th>Time Series (Daily).2000-05-05.7. dividend amount</th>\n      <th>Time Series (Daily).2000-05-05.8. split coefficient</th>\n      <th>Time Series (Daily).2000-05-04.1. open</th>\n      <th>Time Series (Daily).2000-05-04.2. high</th>\n      <th>Time Series (Daily).2000-05-04.3. low</th>\n      <th>Time Series (Daily).2000-05-04.4. close</th>\n      <th>Time Series (Daily).2000-05-04.5. adjusted close</th>\n      <th>Time Series (Daily).2000-05-04.6. volume</th>\n      <th>Time Series (Daily).2000-05-04.7. dividend amount</th>\n      <th>Time Series (Daily).2000-05-04.8. split coefficient</th>\n    </tr>\n  </thead>\n  <tbody>\n    <tr>\n      <th>0</th>\n      <td>Daily Time Series with Splits and Dividend Events</td>\n      <td>aapl</td>\n      <td>2020-05-05</td>\n      <td>Full size</td>\n      <td>US/Eastern</td>\n      <td>295.0600</td>\n      <td>301.0000</td>\n      <td>294.4600</td>\n      <td>297.5600</td>\n      <td>297.5600</td>\n      <td>...</td>\n      <td>0.0000</td>\n      <td>1.0000</td>\n      <td>115.1200</td>\n      <td>115.2500</td>\n      <td>110.5600</td>\n      <td>110.6900</td>\n      <td>3.4311</td>\n      <td>3567100</td>\n      <td>0.0000</td>\n      <td>1.0000</td>\n    </tr>\n  </tbody>\n</table>\n<p>1 rows × 40261 columns</p>\n</div>"
     },
     "metadata": {},
     "execution_count": 9
    }
   ],
   "source": [
    "json_normalize(read_json_file('data_aapl.json'))"
   ]
  },
  {
   "cell_type": "code",
   "execution_count": 3,
   "metadata": {},
   "outputs": [],
   "source": [
    "aapl = pd.read_json('../data/data_aapl.json')"
   ]
  },
  {
   "cell_type": "code",
   "execution_count": 4,
   "metadata": {},
   "outputs": [
    {
     "output_type": "execute_result",
     "data": {
      "text/plain": "                                                           Meta Data  \\\n1. Information     Daily Time Series with Splits and Dividend Events   \n2. Symbol                                                       aapl   \n3. Last Refreshed                                         2020-05-05   \n4. Output Size                                             Full size   \n5. Time Zone                                              US/Eastern   \n...                                                              ...   \n2000-05-10                                                       NaN   \n2000-05-09                                                       NaN   \n2000-05-08                                                       NaN   \n2000-05-05                                                       NaN   \n2000-05-04                                                       NaN   \n\n                                                 Time Series (Daily)  \n1. Information                                                   NaN  \n2. Symbol                                                        NaN  \n3. Last Refreshed                                                NaN  \n4. Output Size                                                   NaN  \n5. Time Zone                                                     NaN  \n...                                                              ...  \n2000-05-10         {'1. open': '104.0600', '2. high': '105.0000',...  \n2000-05-09         {'1. open': '110.3100', '2. high': '111.2500',...  \n2000-05-08         {'1. open': '112.0900', '2. high': '113.6900',...  \n2000-05-05         {'1. open': '110.8100', '2. high': '114.7500',...  \n2000-05-04         {'1. open': '115.1200', '2. high': '115.2500',...  \n\n[5037 rows x 2 columns]",
      "text/html": "<div>\n<style scoped>\n    .dataframe tbody tr th:only-of-type {\n        vertical-align: middle;\n    }\n\n    .dataframe tbody tr th {\n        vertical-align: top;\n    }\n\n    .dataframe thead th {\n        text-align: right;\n    }\n</style>\n<table border=\"1\" class=\"dataframe\">\n  <thead>\n    <tr style=\"text-align: right;\">\n      <th></th>\n      <th>Meta Data</th>\n      <th>Time Series (Daily)</th>\n    </tr>\n  </thead>\n  <tbody>\n    <tr>\n      <th>1. Information</th>\n      <td>Daily Time Series with Splits and Dividend Events</td>\n      <td>NaN</td>\n    </tr>\n    <tr>\n      <th>2. Symbol</th>\n      <td>aapl</td>\n      <td>NaN</td>\n    </tr>\n    <tr>\n      <th>3. Last Refreshed</th>\n      <td>2020-05-05</td>\n      <td>NaN</td>\n    </tr>\n    <tr>\n      <th>4. Output Size</th>\n      <td>Full size</td>\n      <td>NaN</td>\n    </tr>\n    <tr>\n      <th>5. Time Zone</th>\n      <td>US/Eastern</td>\n      <td>NaN</td>\n    </tr>\n    <tr>\n      <th>...</th>\n      <td>...</td>\n      <td>...</td>\n    </tr>\n    <tr>\n      <th>2000-05-10</th>\n      <td>NaN</td>\n      <td>{'1. open': '104.0600', '2. high': '105.0000',...</td>\n    </tr>\n    <tr>\n      <th>2000-05-09</th>\n      <td>NaN</td>\n      <td>{'1. open': '110.3100', '2. high': '111.2500',...</td>\n    </tr>\n    <tr>\n      <th>2000-05-08</th>\n      <td>NaN</td>\n      <td>{'1. open': '112.0900', '2. high': '113.6900',...</td>\n    </tr>\n    <tr>\n      <th>2000-05-05</th>\n      <td>NaN</td>\n      <td>{'1. open': '110.8100', '2. high': '114.7500',...</td>\n    </tr>\n    <tr>\n      <th>2000-05-04</th>\n      <td>NaN</td>\n      <td>{'1. open': '115.1200', '2. high': '115.2500',...</td>\n    </tr>\n  </tbody>\n</table>\n<p>5037 rows × 2 columns</p>\n</div>"
     },
     "metadata": {},
     "execution_count": 4
    }
   ],
   "source": [
    "aapl"
   ]
  },
  {
   "cell_type": "code",
   "execution_count": null,
   "metadata": {},
   "outputs": [],
   "source": []
  }
 ],
 "metadata": {
  "language_info": {
   "codemirror_mode": {
    "name": "ipython",
    "version": 3
   },
   "file_extension": ".py",
   "mimetype": "text/x-python",
   "name": "python",
   "nbconvert_exporter": "python",
   "pygments_lexer": "ipython3",
   "version": "3.7.4-final"
  },
  "orig_nbformat": 2,
  "kernelspec": {
   "name": "python37464bitenvvenvc7ddad15b9a24c02911951a813f341c9",
   "display_name": "Python 3.7.4 64-bit ('env': venv)"
  }
 },
 "nbformat": 4,
 "nbformat_minor": 2
}